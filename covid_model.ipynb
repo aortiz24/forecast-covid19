{
 "cells": [
  {
   "cell_type": "code",
   "execution_count": null,
   "metadata": {},
   "outputs": [],
   "source": [
    "#import libraries\n",
    "import pandas as pd\n",
    "import numpy as np\n",
    "import matplotlib.pyplot as plt\n",
    "from sklearn.preprocessing import MinMaxScaler\n",
    "from tensorflow.keras.models import Sequential\n",
    "from tensorflow.keras.layers import LSTM\n",
    "from tensorflow.keras.layers import Dense\n",
    "from tensorflow.keras.layers import Dropout\n",
    "from sklearn.model_selection import TimeSeriesSplit"
   ]
  },
  {
   "cell_type": "code",
   "execution_count": null,
   "metadata": {},
   "outputs": [],
   "source": [
    "##Data Preparation\n",
    "# preparing independent and dependent features\n",
    "def prepare_data(time_series_data, n_features):\n",
    "\tX, y =[],[]\n",
    "\tfor i in range(len(tx_cases)):\n",
    "\t\t# find the end of this pattern\n",
    "\t\tend_ix = i + n_features\n",
    "\t\t# check if we are beyond the sequence\n",
    "\t\tif end_ix > len(tx_cases)-1:\n",
    "\t\t\tbreak\n",
    "\t\t# gather input and output parts of the pattern\n",
    "\t\tseq_x, seq_y = tx_cases[i:end_ix], tx_cases[end_ix]\n",
    "\t\tX.append(seq_x)\n",
    "\t\ty.append(seq_y)\n",
    "\treturn np.array(X), np.array(y)"
   ]
  },
  {
   "cell_type": "code",
   "execution_count": null,
   "metadata": {},
   "outputs": [],
   "source": [
    "#define input sequence\n",
    "tx_cases = pd.read_csv(\"Texas_covid_data.csv\", usecols=[\"cases\"])"
   ]
  },
  {
   "cell_type": "code",
   "execution_count": null,
   "metadata": {},
   "outputs": [],
   "source": [
    "#perform data normalization \n",
    "#daily number of Texas covid cases converted to fit between 0 and 1\n",
    "scaler = MinMaxScaler(feature_range = (0, 1))\n",
    "tx_cases_scaled = scaler.fit_transform(tx_cases)"
   ]
  },
  {
   "cell_type": "code",
   "execution_count": null,
   "metadata": {},
   "outputs": [],
   "source": [
    "#indicate number of features\n",
    "n_steps = 3"
   ]
  },
  {
   "cell_type": "code",
   "execution_count": null,
   "metadata": {},
   "outputs": [],
   "source": [
    "#split into samples\n",
    "X, y = prepare_data(tx_cases_scaled, n_steps)"
   ]
  },
  {
   "cell_type": "code",
   "execution_count": null,
   "metadata": {},
   "outputs": [],
   "source": [
    "#inspect the shape of X\n",
    "#(number of rows, number of columns)\n",
    "print(X.shape)"
   ]
  },
  {
   "cell_type": "code",
   "execution_count": null,
   "metadata": {},
   "outputs": [],
   "source": [
    "#X is in 2 dimensions. For a LSTM model X needs to be in 3 dimensions\n",
    "#reshape X by adding the dimension 'n_element'\n",
    "n_element = 1\n",
    "X = X.reshape((X.shape[0], X.shape[1], n_element))"
   ]
  },
  {
   "cell_type": "code",
   "execution_count": null,
   "metadata": {},
   "outputs": [],
   "source": [
    "##Model Building\n",
    "# define model\n",
    "model = Sequential()\n",
    "model.add(LSTM(50, activation='relu', return_sequences=True, input_shape=(n_steps, n_element)))\n",
    "model.add(Dropout(0.2)) #prevents overfitting\n",
    "model.add(LSTM(50, activation='relu', return_sequences=True))\n",
    "model.add(Dropout(0.2)) #prevents overfitting\n",
    "model.add(LSTM(50, activation='relu', return_sequences=True))\n",
    "model.add(Dropout(0.2)) #prevents overfitting\n",
    "model.add(LSTM(50))\n",
    "model.add(Dropout(0.2)) #prevents overfitting\n",
    "model.add(Dense(1))\n",
    "model.compile(optimizer='adam', loss='mean_squared_error')"
   ]
  },
  {
   "cell_type": "code",
   "execution_count": null,
   "metadata": {},
   "outputs": [],
   "source": [
    "#split X, y variables into training & test data sets for each variable\n",
    "tscv = TimeSeriesSplit()\n",
    "print(tscv)\n",
    "TimeSeriesSplit(max_train_size=None, n_splits=5)\n",
    "for train_index, test_index in tscv.split(X):\n",
    "    print(\"TRAIN:\", train_index, \"TEST:\", test_index)\n",
    "    X_train, X_test = X[train_index], X[test_index]\n",
    "    y_train, y_test = y[train_index], y[test_index]"
   ]
  },
  {
   "cell_type": "code",
   "execution_count": null,
   "metadata": {},
   "outputs": [],
   "source": [
    "##Model Training\n",
    "#train using training data set\n",
    "model.fit(X_train, epochs=30, verbose=1)\n"
   ]
  },
  {
   "cell_type": "code",
   "execution_count": null,
   "metadata": {},
   "outputs": [],
   "source": [
    "##Model Evaluation\n",
    "#evaluate using test data set\n",
    "model.evaluate(x=X_test, verbose=1)\n"
   ]
  },
  {
   "cell_type": "code",
   "execution_count": null,
   "metadata": {},
   "outputs": [],
   "source": [
    "##Model Prediction\n",
    "#predict using numpy array of daily COVID-19 cases in Texas\n",
    "prediction = model.predict(x=X)"
   ]
  },
  {
   "cell_type": "code",
   "execution_count": null,
   "metadata": {},
   "outputs": [],
   "source": [
    "#reverse normalization of prediction data\n",
    "predictions = scaler.inverse_transform(prediction)"
   ]
  },
  {
   "cell_type": "code",
   "execution_count": null,
   "metadata": {},
   "outputs": [],
   "source": [
    "##Data Visualization\n",
    "#plot actual and predicted data\n",
    "plt.figure(figsize=(10,6))\n",
    "plt.plot(tx_cases, color='blue', label='Actual Daily COVID-19 Cases')\n",
    "plt.plot(predictions, color='red', label='Predicted Daily COVID-19 Cases')\n",
    "plt.title('Daily COVID-19 Cases Prediction')\n",
    "plt.xlabel('Date')\n",
    "plt.ylabel('Daily COVID-19 Cases')\n",
    "plt.legend()\n",
    "plt.show()"
   ]
  }
 ],
 "metadata": {
  "kernelspec": {
   "display_name": "Python 3",
   "language": "python",
   "name": "python3"
  },
  "language_info": {
   "codemirror_mode": {
    "name": "ipython",
    "version": 3
   },
   "file_extension": ".py",
   "mimetype": "text/x-python",
   "name": "python",
   "nbconvert_exporter": "python",
   "pygments_lexer": "ipython3",
   "version": "3.7.6"
  }
 },
 "nbformat": 4,
 "nbformat_minor": 4
}
